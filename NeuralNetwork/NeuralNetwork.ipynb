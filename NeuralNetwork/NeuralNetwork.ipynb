{
 "cells": [
  {
   "cell_type": "code",
   "execution_count": 1,
   "metadata": {
    "collapsed": true
   },
   "outputs": [],
   "source": [
    "# Starting with the name of Almighty God\n",
    "# In God We Trust"
   ]
  },
  {
   "cell_type": "code",
   "execution_count": 25,
   "metadata": {
    "collapsed": true
   },
   "outputs": [],
   "source": [
    "import numpy\n",
    "import scipy.special\n",
    "\n",
    "class NeuralNetwork:\n",
    "    # initialize\n",
    "    def __init__(self, inputNode, hiddenNode, outputNode, learningRate):\n",
    "        self.inputNode = inputNode\n",
    "        self.hiddenNode = hiddenNode\n",
    "        self.outputNode = outputNode\n",
    "        self.learningRate = learningRate\n",
    "        \n",
    "        self.inToHiddenWeight = (numpy.random.rand(self.hiddenNode, self.inputNode)) - 0.5\n",
    "        self.hiddenToOutWeight = (numpy.random.rand(self.outputNode, self.hiddenNode)) - 0.5\n",
    "        \n",
    "        # sigmoid function\n",
    "        self.activation_func  = lambda x: scipy.special.expit(x)\n",
    "        pass\n",
    "    \n",
    "    # train neural network\n",
    "    def train(self, inputs_list, target_list):\n",
    "        inputs = numpy.array(inputs_list, ndmin=2).T\n",
    "        targets = numpy.array(target_list, ndmin=2).T\n",
    "        \n",
    "        hidden_inputs = numpy.dot(self.inToHiddenWeight, inputs)\n",
    "        hidden_outputs = self.activation_func(hidden_inputs)\n",
    "        \n",
    "        final_inputs = numpy.dot(self.hiddenToOutWeight, hidden_outputs)        \n",
    "        final_outputs = self.activation_func(final_inputs)\n",
    "        \n",
    "        output_errors = targets - final_outputs\n",
    "        hidden_errors = numpy.dot(self.hiddenToOutWeight.T, output_errors)\n",
    "        \n",
    "        self.hiddenToOutWeight += self.learningRate * numpy.dot(output_errors * final_outputs * (1.0 - final_outputs), numpy.transpose(hidden_outputs))\n",
    "        self.inToHiddenWeight += self.learningRate * numpy.dot(hidden_errors * hidden_outputs * (1.0 - hidden_outputs), numpy.transpose(inputs))\n",
    "        \n",
    "        pass\n",
    "    \n",
    "    # query in the network\n",
    "    def query(self, inputs_list):\n",
    "        # convert input list to it's transpose\n",
    "        inputs = numpy.array(inputs_list, ndmin=2).T\n",
    "        \n",
    "        # propagate from input to hidden layer\n",
    "        hidden_inputs = numpy.dot(self.inToHiddenWeight, inputs)\n",
    "        # apply activation function on hidden layer. this will be input to final output node\n",
    "        hidden_outputs = self.activation_func(hidden_inputs)\n",
    "        \n",
    "        # propagate from hidden to output\n",
    "        final_inputs = numpy.dot(self.hiddenToOutWeight, hidden_outputs)\n",
    "        # apply activation function to produce final outcome\n",
    "        final_outputs = self.activation_func(final_inputs)\n",
    "        return final_outputs\n",
    "    "
   ]
  },
  {
   "cell_type": "code",
   "execution_count": 26,
   "metadata": {
    "collapsed": true
   },
   "outputs": [],
   "source": [
    "nn = NeuralNetwork(3, 3, 3, .3)\n",
    "input = [1.0, 0.5, -1.5]"
   ]
  },
  {
   "cell_type": "code",
   "execution_count": 27,
   "metadata": {},
   "outputs": [],
   "source": [
    "num_innodes = 784\n",
    "num_hiddennodes = 100\n",
    "num_outnodes = 10\n",
    "\n",
    "learning_rate = .3"
   ]
  },
  {
   "cell_type": "code",
   "execution_count": 28,
   "metadata": {
    "collapsed": true
   },
   "outputs": [],
   "source": [
    "nn = NeuralNetwork(num_innodes, num_hiddennodes, num_outnodes, learning_rate)"
   ]
  },
  {
   "cell_type": "code",
   "execution_count": 29,
   "metadata": {
    "collapsed": true
   },
   "outputs": [],
   "source": [
    "data_file = open(\"mnist_dataset/mnist_train_100.csv\", 'r')\n",
    "data_list = data_file.readlines()\n",
    "data_file.close()"
   ]
  },
  {
   "cell_type": "code",
   "execution_count": 30,
   "metadata": {},
   "outputs": [],
   "source": [
    "for record in data_list:\n",
    "    all_values = data_list[0].split(',')\n",
    "    inputs = (numpy.asfarray(all_values[1:]) / 255.0) * .99 + 0.01\n",
    "    targets = numpy.zeros(num_outnodes) + 0.01\n",
    "    targets[int(all_values[0])] = 0.99\n",
    "    nn.train(inputs, targets)\n",
    "    pass\n"
   ]
  },
  {
   "cell_type": "code",
   "execution_count": 32,
   "metadata": {},
   "outputs": [],
   "source": [
    "test_data_file = open(\"mnist_dataset/mnist_test_10.csv\", 'r')\n",
    "test_data_list = test_data_file.readlines()\n",
    "test_data_file.close()"
   ]
  },
  {
   "cell_type": "code",
   "execution_count": 34,
   "metadata": {},
   "outputs": [
    {
     "name": "stdout",
     "output_type": "stream",
     "text": [
      "5\n"
     ]
    },
    {
     "data": {
      "text/plain": [
       "<matplotlib.image.AxesImage at 0x10e05ceb8>"
      ]
     },
     "execution_count": 34,
     "metadata": {},
     "output_type": "execute_result"
    },
    {
     "data": {
      "image/png": "[encoded data removed]",
      "text/plain": [
       "<matplotlib.figure.Figure at 0x109763908>"
      ]
     },
     "metadata": {},
     "output_type": "display_data"
    }
   ],
   "source": [
    "import numpy\n",
    "import matplotlib.pyplot\n",
    "%matplotlib inline\n",
    "all_values = data_list[0].split(',')\n",
    "print(all_values[0])\n",
    "image_array = numpy.asfarray(all_values[1:]).reshape(28, 28)\n",
    "matplotlib.pyplot.imshow(image_array, cmap='Greys', interpolation='None')"
   ]
  },
  {
   "cell_type": "code",
   "execution_count": 35,
   "metadata": {
    "collapsed": true
   },
   "outputs": [],
   "source": [
    "query_data = (numpy.asfarray(all_values[1:]) / 255.0) * .99 + 0.01\n",
    "query_result = nn.query(query_data)"
   ]
  },
  {
   "cell_type": "code",
   "execution_count": 36,
   "metadata": {},
   "outputs": [
    {
     "name": "stdout",
     "output_type": "stream",
     "text": [
      "[[ 0.01681212]\n",
      " [ 0.01427492]\n",
      " [ 0.01579216]\n",
      " [ 0.012569  ]\n",
      " [ 0.01677694]\n",
      " [ 0.98502507]\n",
      " [ 0.01597938]\n",
      " [ 0.01790037]\n",
      " [ 0.01614304]\n",
      " [ 0.01625006]]\n"
     ]
    }
   ],
   "source": [
    "print(query_result)"
   ]
  },
  {
   "cell_type": "code",
   "execution_count": null,
   "metadata": {
    "collapsed": true
   },
   "outputs": [],
   "source": []
  }
 ],
 "metadata": {
  "kernelspec": {
   "display_name": "Python 3",
   "language": "python",
   "name": "python3"
  },
  "language_info": {
   "codemirror_mode": {
    "name": "ipython",
    "version": 3
   },
   "file_extension": ".py",
   "mimetype": "text/x-python",
   "name": "python",
   "nbconvert_exporter": "python",
   "pygments_lexer": "ipython3",
   "version": "3.6.1"
  }
 },
 "nbformat": 4,
 "nbformat_minor": 2
}
